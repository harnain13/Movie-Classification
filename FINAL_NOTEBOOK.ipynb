{
 "cells": [
  {
   "cell_type": "markdown",
   "id": "ec1027f4-928d-4452-839f-ac231992b7e0",
   "metadata": {},
   "source": [
    "# Part - 1: Data Preprocessing:"
   ]
  },
  {
   "cell_type": "code",
   "execution_count": 1,
   "id": "ee659ccc-49ed-4053-9fb3-d4896006af9f",
   "metadata": {},
   "outputs": [],
   "source": [
    "# Load the libraries\n",
    "import pandas as pd\n",
    "import numpy as np\n",
    "import matplotlib.pyplot as plt"
   ]
  },
  {
   "cell_type": "code",
   "execution_count": 2,
   "id": "7814ab6e-f3c8-47a0-8b18-74278683daac",
   "metadata": {
    "tags": []
   },
   "outputs": [],
   "source": [
    "# load the raw data file\n",
    "rawdata = pd.read_csv('Top_10000_Movies.csv',engine = 'python',index_col = [0])"
   ]
  },
  {
   "cell_type": "code",
   "execution_count": 3,
   "id": "2d44b324-b8a5-4f4a-843a-1cdc4fdbc725",
   "metadata": {},
   "outputs": [
    {
     "data": {
      "text/html": [
       "<div>\n",
       "<style scoped>\n",
       "    .dataframe tbody tr th:only-of-type {\n",
       "        vertical-align: middle;\n",
       "    }\n",
       "\n",
       "    .dataframe tbody tr th {\n",
       "        vertical-align: top;\n",
       "    }\n",
       "\n",
       "    .dataframe thead th {\n",
       "        text-align: right;\n",
       "    }\n",
       "</style>\n",
       "<table border=\"1\" class=\"dataframe\">\n",
       "  <thead>\n",
       "    <tr style=\"text-align: right;\">\n",
       "      <th></th>\n",
       "      <th>id</th>\n",
       "      <th>original_language</th>\n",
       "      <th>original_title</th>\n",
       "      <th>popularity</th>\n",
       "      <th>release_date</th>\n",
       "      <th>vote_average</th>\n",
       "      <th>vote_count</th>\n",
       "      <th>genre</th>\n",
       "      <th>overview</th>\n",
       "      <th>revenue</th>\n",
       "      <th>runtime</th>\n",
       "      <th>tagline</th>\n",
       "    </tr>\n",
       "  </thead>\n",
       "  <tbody>\n",
       "    <tr>\n",
       "      <th>0</th>\n",
       "      <td>580489.0</td>\n",
       "      <td>en</td>\n",
       "      <td>Venom: Let There Be Carnage</td>\n",
       "      <td>5401.308</td>\n",
       "      <td>2021-09-30</td>\n",
       "      <td>6.8</td>\n",
       "      <td>1736.0</td>\n",
       "      <td>['Science Fiction', 'Action', 'Adventure']</td>\n",
       "      <td>After finding a host body in investigative rep...</td>\n",
       "      <td>424000000.0</td>\n",
       "      <td>97.0</td>\n",
       "      <td>NaN</td>\n",
       "    </tr>\n",
       "    <tr>\n",
       "      <th>1</th>\n",
       "      <td>524434.0</td>\n",
       "      <td>en</td>\n",
       "      <td>Eternals</td>\n",
       "      <td>3365.535</td>\n",
       "      <td>2021-11-03</td>\n",
       "      <td>7.1</td>\n",
       "      <td>622.0</td>\n",
       "      <td>['Action', 'Adventure', 'Science Fiction', 'Fa...</td>\n",
       "      <td>The Eternals are a team of ancient aliens who ...</td>\n",
       "      <td>165000000.0</td>\n",
       "      <td>157.0</td>\n",
       "      <td>In the beginning...</td>\n",
       "    </tr>\n",
       "    <tr>\n",
       "      <th>2</th>\n",
       "      <td>438631.0</td>\n",
       "      <td>en</td>\n",
       "      <td>Dune</td>\n",
       "      <td>2911.423</td>\n",
       "      <td>2021-09-15</td>\n",
       "      <td>8.0</td>\n",
       "      <td>3632.0</td>\n",
       "      <td>['Action', 'Adventure', 'Science Fiction']</td>\n",
       "      <td>Paul Atreides, a brilliant and gifted young ma...</td>\n",
       "      <td>331116356.0</td>\n",
       "      <td>155.0</td>\n",
       "      <td>Beyond fear, destiny awaits.</td>\n",
       "    </tr>\n",
       "    <tr>\n",
       "      <th>3</th>\n",
       "      <td>796499.0</td>\n",
       "      <td>en</td>\n",
       "      <td>Army of Thieves</td>\n",
       "      <td>2552.437</td>\n",
       "      <td>2021-10-27</td>\n",
       "      <td>6.9</td>\n",
       "      <td>555.0</td>\n",
       "      <td>['Action', 'Crime', 'Thriller']</td>\n",
       "      <td>A mysterious woman recruits bank teller Ludwig...</td>\n",
       "      <td>0.0</td>\n",
       "      <td>127.0</td>\n",
       "      <td>Before Vegas, one locksmith became a legend.</td>\n",
       "    </tr>\n",
       "    <tr>\n",
       "      <th>4</th>\n",
       "      <td>550988.0</td>\n",
       "      <td>en</td>\n",
       "      <td>Free Guy</td>\n",
       "      <td>1850.470</td>\n",
       "      <td>2021-08-11</td>\n",
       "      <td>7.8</td>\n",
       "      <td>3493.0</td>\n",
       "      <td>['Comedy', 'Action', 'Adventure', 'Science Fic...</td>\n",
       "      <td>A bank teller called Guy realizes he is a back...</td>\n",
       "      <td>331096766.0</td>\n",
       "      <td>115.0</td>\n",
       "      <td>Life's too short to be a background character.</td>\n",
       "    </tr>\n",
       "  </tbody>\n",
       "</table>\n",
       "</div>"
      ],
      "text/plain": [
       "         id original_language               original_title  popularity  \\\n",
       "0  580489.0                en  Venom: Let There Be Carnage    5401.308   \n",
       "1  524434.0                en                     Eternals    3365.535   \n",
       "2  438631.0                en                         Dune    2911.423   \n",
       "3  796499.0                en              Army of Thieves    2552.437   \n",
       "4  550988.0                en                     Free Guy    1850.470   \n",
       "\n",
       "  release_date  vote_average  vote_count  \\\n",
       "0   2021-09-30           6.8      1736.0   \n",
       "1   2021-11-03           7.1       622.0   \n",
       "2   2021-09-15           8.0      3632.0   \n",
       "3   2021-10-27           6.9       555.0   \n",
       "4   2021-08-11           7.8      3493.0   \n",
       "\n",
       "                                               genre  \\\n",
       "0         ['Science Fiction', 'Action', 'Adventure']   \n",
       "1  ['Action', 'Adventure', 'Science Fiction', 'Fa...   \n",
       "2         ['Action', 'Adventure', 'Science Fiction']   \n",
       "3                    ['Action', 'Crime', 'Thriller']   \n",
       "4  ['Comedy', 'Action', 'Adventure', 'Science Fic...   \n",
       "\n",
       "                                            overview      revenue  runtime  \\\n",
       "0  After finding a host body in investigative rep...  424000000.0     97.0   \n",
       "1  The Eternals are a team of ancient aliens who ...  165000000.0    157.0   \n",
       "2  Paul Atreides, a brilliant and gifted young ma...  331116356.0    155.0   \n",
       "3  A mysterious woman recruits bank teller Ludwig...          0.0    127.0   \n",
       "4  A bank teller called Guy realizes he is a back...  331096766.0    115.0   \n",
       "\n",
       "                                          tagline  \n",
       "0                                             NaN  \n",
       "1                             In the beginning...  \n",
       "2                    Beyond fear, destiny awaits.  \n",
       "3    Before Vegas, one locksmith became a legend.  \n",
       "4  Life's too short to be a background character.  "
      ]
     },
     "execution_count": 3,
     "metadata": {},
     "output_type": "execute_result"
    }
   ],
   "source": [
    "rawdata.head()"
   ]
  },
  {
   "cell_type": "code",
   "execution_count": 4,
   "id": "1fa95218-056b-483b-8b97-6fbc03caaf37",
   "metadata": {},
   "outputs": [
    {
     "name": "stdout",
     "output_type": "stream",
     "text": [
      "the original rawdata --------------------------------------\n",
      "<class 'pandas.core.frame.DataFrame'>\n",
      "Index: 10014 entries, 0 to 9999\n",
      "Data columns (total 12 columns):\n",
      " #   Column             Non-Null Count  Dtype  \n",
      "---  ------             --------------  -----  \n",
      " 0   id                 10002 non-null  float64\n",
      " 1   original_language  10002 non-null  object \n",
      " 2   original_title     10001 non-null  object \n",
      " 3   popularity         10000 non-null  float64\n",
      " 4   release_date       9962 non-null   object \n",
      " 5   vote_average       10000 non-null  float64\n",
      " 6   vote_count         10000 non-null  float64\n",
      " 7   genre              10000 non-null  object \n",
      " 8   overview           9900 non-null   object \n",
      " 9   revenue            9998 non-null   float64\n",
      " 10  runtime            9989 non-null   float64\n",
      " 11  tagline            7079 non-null   object \n",
      "dtypes: float64(6), object(6)\n",
      "memory usage: 1017.0+ KB\n"
     ]
    }
   ],
   "source": [
    "# missing values\n",
    "print('the original rawdata --------------------------------------')\n",
    "rawdata.info()"
   ]
  },
  {
   "cell_type": "code",
   "execution_count": 5,
   "id": "e18cdaaa-319a-4b31-b430-0f6e0c1421f6",
   "metadata": {},
   "outputs": [
    {
     "data": {
      "text/plain": [
       "id                     12\n",
       "original_language      12\n",
       "original_title         13\n",
       "popularity             14\n",
       "release_date           52\n",
       "vote_average           14\n",
       "vote_count             14\n",
       "genre                  14\n",
       "overview              114\n",
       "revenue                16\n",
       "runtime                25\n",
       "tagline              2935\n",
       "dtype: int64"
      ]
     },
     "execution_count": 5,
     "metadata": {},
     "output_type": "execute_result"
    }
   ],
   "source": [
    "rawdata.isnull().sum()"
   ]
  },
  {
   "cell_type": "code",
   "execution_count": 6,
   "id": "829cf2bb-c059-49b8-bd00-c471e28287b4",
   "metadata": {},
   "outputs": [
    {
     "name": "stdout",
     "output_type": "stream",
     "text": [
      "the rawdata after cleaned --------------------------------------\n",
      "<class 'pandas.core.frame.DataFrame'>\n",
      "Index: 9864 entries, 0 to 9999\n",
      "Data columns (total 12 columns):\n",
      " #   Column             Non-Null Count  Dtype  \n",
      "---  ------             --------------  -----  \n",
      " 0   id                 9864 non-null   float64\n",
      " 1   original_language  9864 non-null   object \n",
      " 2   original_title     9864 non-null   object \n",
      " 3   popularity         9864 non-null   float64\n",
      " 4   release_date       9864 non-null   object \n",
      " 5   vote_average       9864 non-null   float64\n",
      " 6   vote_count         9864 non-null   float64\n",
      " 7   genre              9864 non-null   object \n",
      " 8   overview           9864 non-null   object \n",
      " 9   revenue            9864 non-null   float64\n",
      " 10  runtime            9864 non-null   float64\n",
      " 11  tagline            9864 non-null   object \n",
      "dtypes: float64(6), object(6)\n",
      "memory usage: 1001.8+ KB\n"
     ]
    }
   ],
   "source": [
    "# handle with the missing values\n",
    "for c in rawdata.columns:\n",
    "    if rawdata[c].dtype == np.float64 or rawdata[c].dtype == np.int64 or c == 'release_date' or c == 'overview' or c == 'original_title':\n",
    "        rawdata = rawdata[rawdata[c].notnull()]\n",
    "    elif c == 'tagline' or c == 'genre':\n",
    "        rawdata[c] = rawdata[c].fillna('unknown')\n",
    "\n",
    "# after\n",
    "print('the rawdata after cleaned --------------------------------------')\n",
    "rawdata.info()"
   ]
  },
  {
   "cell_type": "code",
   "execution_count": 7,
   "id": "6d05fb30-b306-4716-9615-bb896538e622",
   "metadata": {},
   "outputs": [
    {
     "data": {
      "text/plain": [
       "id                   0\n",
       "original_language    0\n",
       "original_title       0\n",
       "popularity           0\n",
       "release_date         0\n",
       "vote_average         0\n",
       "vote_count           0\n",
       "genre                0\n",
       "overview             0\n",
       "revenue              0\n",
       "runtime              0\n",
       "tagline              0\n",
       "dtype: int64"
      ]
     },
     "execution_count": 7,
     "metadata": {},
     "output_type": "execute_result"
    }
   ],
   "source": [
    "rawdata.isnull().sum()"
   ]
  },
  {
   "cell_type": "code",
   "execution_count": 8,
   "id": "7eafe73d-b143-456a-b2b0-2dd7334a57bd",
   "metadata": {},
   "outputs": [
    {
     "name": "stdout",
     "output_type": "stream",
     "text": [
      "the original rawdata --------------------------------------\n",
      "                  id   popularity  vote_average    vote_count       revenue  \\\n",
      "count    9864.000000  9864.000000   9864.000000   9864.000000  9.864000e+03   \n",
      "mean   244683.453974    34.494100      6.347496   1333.144769  5.813671e+07   \n",
      "std    258207.442803   100.863698      1.335539   2514.323709  1.489364e+08   \n",
      "min         5.000000     6.269000      0.000000      0.000000  0.000000e+00   \n",
      "25%     11800.750000    11.906000      5.900000    126.000000  0.000000e+00   \n",
      "50%    129007.500000    17.491500      6.500000    437.000000  9.437905e+05   \n",
      "75%    446000.000000    29.716000      7.100000   1318.000000  4.879073e+07   \n",
      "max    893478.000000  5401.308000      9.500000  30184.000000  2.847246e+09   \n",
      "\n",
      "           runtime  \n",
      "count  9864.000000  \n",
      "mean     99.849453  \n",
      "std      26.984604  \n",
      "min       0.000000  \n",
      "25%      90.000000  \n",
      "50%     100.000000  \n",
      "75%     113.000000  \n",
      "max     400.000000  \n",
      "the rawdata after cleaned --------------------------------------\n",
      "                  id   popularity  vote_average   vote_count      revenue  \\\n",
      "count    9864.000000  9864.000000   9864.000000  9864.000000  9864.000000   \n",
      "mean   244683.453974     0.005232      0.668157     0.044167     0.020419   \n",
      "std    258207.442803     0.018696      0.140583     0.083300     0.052309   \n",
      "min         5.000000     0.000000      0.000000     0.000000     0.000000   \n",
      "25%     11800.750000     0.001045      0.621053     0.004174     0.000000   \n",
      "50%    129007.500000     0.002080      0.684211     0.014478     0.000331   \n",
      "75%    446000.000000     0.004346      0.747368     0.043666     0.017136   \n",
      "max    893478.000000     1.000000      1.000000     1.000000     1.000000   \n",
      "\n",
      "           runtime  \n",
      "count  9864.000000  \n",
      "mean      0.249624  \n",
      "std       0.067462  \n",
      "min       0.000000  \n",
      "25%       0.225000  \n",
      "50%       0.250000  \n",
      "75%       0.282500  \n",
      "max       1.000000  \n"
     ]
    }
   ],
   "source": [
    "#scaling\n",
    "print('the original rawdata --------------------------------------')\n",
    "print(rawdata.describe())\n",
    "\n",
    "# min max scaler\n",
    "def min_max_scaled(x):\n",
    "    return (x - x.min())/(x.max() - x.min())\n",
    "\n",
    "for c in rawdata.columns:\n",
    "    if rawdata[c].dtype == np.float64 or rawdata[c].dtype == np.int64:\n",
    "        if c != 'id':\n",
    "            rawdata[c] = min_max_scaled(rawdata[c])\n",
    "\n",
    "# after\n",
    "print('the rawdata after cleaned --------------------------------------')\n",
    "print(rawdata.describe())"
   ]
  },
  {
   "cell_type": "code",
   "execution_count": 9,
   "id": "deec63ca-15ef-46b2-982c-df12b65f318d",
   "metadata": {},
   "outputs": [],
   "source": [
    "import re\n",
    "from sklearn.feature_extraction.text import CountVectorizer,TfidfVectorizer\n",
    "import nltk\n",
    "\n",
    "# nltk.download() # when lntk arises \"Lookup Error\", use this function. If the client OS is mac, must put any argument in the function.\n",
    "\n",
    "class MA:\n",
    "\n",
    "    '''\n",
    "    Morphorogical analysis\n",
    "    '''\n",
    "    def __init__(self,data,column):\n",
    "        ''' \n",
    "        initilize the class\n",
    "        '''\n",
    "        self.data = data\n",
    "        self.text_data = self.data[column]\n",
    "\n",
    "    def lower(self,text):\n",
    "        ''' \n",
    "        return a text in lower case\n",
    "        '''\n",
    "        return text.lower()\n",
    "\n",
    "    def re_str(self,text):\n",
    "        '''\n",
    "        helper function\n",
    "        exclude redundant terms\n",
    "        '''\n",
    "        reg_txt = re.sub(r\"[0-9]+\", '',text) # numeric numbers\n",
    "        reg_txt = re.sub(r\"[:;/+\\.~,]\",'',reg_txt) # signs\n",
    "        reg_txt = re.sub(r\"[\\d+]\",'',reg_txt) # string numbers\n",
    "        return reg_txt\n",
    "\n",
    "    def tokenize(self,text):\n",
    "        '''\n",
    "        helper function\n",
    "        tokenize with nltk\n",
    "        return token\n",
    "        '''\n",
    "        return nltk.word_tokenize(text)\n",
    "\n",
    "\n",
    "    def part_of_speech(self,token):\n",
    "        '''\n",
    "        helper function\n",
    "        return the part of speech of a term\n",
    "        NLTK POS Tags reference: https://www.guru99.com/pos-tagging-chunking-nltk.html#:~:text=POS%20Tagging%20in%20NLTK%20is,each%20word%20of%20the%20sentence.\n",
    "        '''\n",
    "        return nltk.pos_tag(token)\n",
    "\n",
    "\n",
    "    def split(self,text,stop_words,exclude_pos):\n",
    "        '''\n",
    "        helper function\n",
    "        tokenizer \n",
    "        '''\n",
    "        words_list = []\n",
    "        term = ''\n",
    "\n",
    "        text = self.lower(text)\n",
    "        reg_txt = self.re_str(text)\n",
    "        token = self.tokenize(reg_txt)\n",
    "        pos = self.part_of_speech(token)\n",
    "        \n",
    "        for i,(t,pos) in enumerate(pos):\n",
    "            if pos not in exclude_pos and t not in stop_words:\n",
    "                words_list.append(t)\n",
    "                term = ' '.join(words_list)\n",
    "\n",
    "        return term\n",
    "\n",
    "    def execute(self,stop_words,exclude_pos):\n",
    "        '''\n",
    "        morphorogical analysis\n",
    "        '''\n",
    "        doc_term = []\n",
    "\n",
    "        for text in self.text_data:\n",
    "            term = self.split(text,stop_words,exclude_pos)\n",
    "            doc_term.append(term)\n",
    "\n",
    "        return doc_term\n",
    "\n",
    "    def count(self,doc_term, min_size):\n",
    "        '''\n",
    "        return the document term matrix\n",
    "        mi_size defines the minimum number of documents in which the term should appear\n",
    "        '''\n",
    "        self.cv = CountVectorizer(min_df = min_size/len(self.text_data))\n",
    "        doc_term_cv = self.cv.fit_transform(np.array(doc_term))\n",
    "        doc_term_cnt = doc_term_cv.toarray()\n",
    "        return doc_term_cnt\n",
    "\n",
    "    def reorder(self,doc_term_cnt):\n",
    "        '''\n",
    "        return the dataframe of the doc-term matrix in order\n",
    "        '''\n",
    "        word_count_pairs = []\n",
    "        docterm_wcnt = np.sum(a = doc_term_cnt, axis = 0)\n",
    "        for word, count in zip(self.cv.get_feature_names_out(), docterm_wcnt):\n",
    "            word_count_pairs.append([word,count])\n",
    "        word_count_df = pd.DataFrame(word_count_pairs)\n",
    "        return word_count_df.sort_values(1,ascending = False)\n",
    "\n",
    "    def tf_idf(self,doc_term,min_size):\n",
    "        ''' \n",
    "        return the tf-idf matrix\n",
    "        mi_size defines the minimum number of documents in which the term should appear\n",
    "        '''\n",
    "        tv = TfidfVectorizer(min_df = min_size/len(self.text_data),sublinear_tf = True)\n",
    "        docterm_tv = tv.fit_transform(np.array(doc_term))\n",
    "        doc_term_tfidf = docterm_tv.toarray()\n",
    "        return pd.DataFrame(doc_term_tfidf, columns = tv.get_feature_names_out())\n",
    "\n",
    "    def get_feature_names(self):\n",
    "        return self.cv.get_feature_names_out()\n",
    "\n",
    "\n",
    "stop_words = set(nltk.corpus.stopwords.words('english'))\n",
    "exclude_pos = []\n",
    "ma = MA(rawdata,'overview')\n",
    "doc_term = ma.execute(stop_words,exclude_pos)\n",
    "doc_term_cnt = ma.count(doc_term,10)\n",
    "doc_term_cnt_reorder = ma.reorder(doc_term_cnt)\n",
    "doc_term_tfidf = ma.tf_idf(doc_term,10)"
   ]
  },
  {
   "cell_type": "code",
   "execution_count": 10,
   "id": "8e3a5635-43fc-49b0-9dd6-cbb287283d59",
   "metadata": {},
   "outputs": [],
   "source": [
    "# genre column expands in row-wise\n",
    "genres = rawdata[['id','genre']]\n",
    "\n",
    "new_genres = []\n",
    "\n",
    "for idx in range(len(genres)):\n",
    "    for g in genres.iloc[idx,1][2:-2].split(','):\n",
    "        genre_idx = genres.iloc[idx,0]\n",
    "        genre_split = (re.sub(r\"[:;/+\\.~,'\\s\\n]\",'',g))\n",
    "        new_genres.append(tuple([genre_idx,genre_split]))\n",
    "new_idx_genre = pd.DataFrame(new_genres,columns = ['id','genre'])\n",
    "new_idx_genre = new_idx_genre.set_index(['id'])\n",
    "\n",
    "# new doct term \n",
    "new_doc_term = pd.DataFrame(doc_term,index = rawdata['id'], columns = ['tokens'])\n",
    "doc_term_data = pd.merge(new_idx_genre,new_doc_term,left_index = True,right_index = True)\n",
    "\n",
    "# new doc term count\n",
    "new_doc_term_cnt = pd.DataFrame(doc_term_cnt,index = rawdata['id'],columns = ma.get_feature_names())\n",
    "doc_term_cnt_data = pd.merge(new_idx_genre,new_doc_term_cnt,left_index = True,right_index = True)\n",
    "\n",
    "# new if idf\n",
    "new_doc_term_tfidf = pd.DataFrame(doc_term_tfidf,index = rawdata['id'],columns = ma.get_feature_names())\n",
    "doc_term_tfidf_data = pd.merge(new_idx_genre,new_doc_term_tfidf,left_index = True,right_index = True)"
   ]
  },
  {
   "cell_type": "code",
   "execution_count": 11,
   "id": "e3eb48f7-7ee4-46c3-bda8-049c9f7c9f38",
   "metadata": {},
   "outputs": [
    {
     "data": {
      "text/html": [
       "<div>\n",
       "<style scoped>\n",
       "    .dataframe tbody tr th:only-of-type {\n",
       "        vertical-align: middle;\n",
       "    }\n",
       "\n",
       "    .dataframe tbody tr th {\n",
       "        vertical-align: top;\n",
       "    }\n",
       "\n",
       "    .dataframe thead th {\n",
       "        text-align: right;\n",
       "    }\n",
       "</style>\n",
       "<table border=\"1\" class=\"dataframe\">\n",
       "  <thead>\n",
       "    <tr style=\"text-align: right;\">\n",
       "      <th></th>\n",
       "      <th>genre</th>\n",
       "      <th>aaron</th>\n",
       "      <th>abandoned</th>\n",
       "      <th>abducted</th>\n",
       "      <th>abilities</th>\n",
       "      <th>ability</th>\n",
       "      <th>able</th>\n",
       "      <th>aboard</th>\n",
       "      <th>abroad</th>\n",
       "      <th>abuse</th>\n",
       "      <th>...</th>\n",
       "      <th>yet</th>\n",
       "      <th>york</th>\n",
       "      <th>young</th>\n",
       "      <th>younger</th>\n",
       "      <th>youngest</th>\n",
       "      <th>youth</th>\n",
       "      <th>zombie</th>\n",
       "      <th>zombies</th>\n",
       "      <th>zone</th>\n",
       "      <th>zoo</th>\n",
       "    </tr>\n",
       "    <tr>\n",
       "      <th>id</th>\n",
       "      <th></th>\n",
       "      <th></th>\n",
       "      <th></th>\n",
       "      <th></th>\n",
       "      <th></th>\n",
       "      <th></th>\n",
       "      <th></th>\n",
       "      <th></th>\n",
       "      <th></th>\n",
       "      <th></th>\n",
       "      <th></th>\n",
       "      <th></th>\n",
       "      <th></th>\n",
       "      <th></th>\n",
       "      <th></th>\n",
       "      <th></th>\n",
       "      <th></th>\n",
       "      <th></th>\n",
       "      <th></th>\n",
       "      <th></th>\n",
       "      <th></th>\n",
       "    </tr>\n",
       "  </thead>\n",
       "  <tbody>\n",
       "    <tr>\n",
       "      <th>5.0</th>\n",
       "      <td>Crime</td>\n",
       "      <td>0.0</td>\n",
       "      <td>0.0</td>\n",
       "      <td>0.0</td>\n",
       "      <td>0.0</td>\n",
       "      <td>0.0</td>\n",
       "      <td>0.0</td>\n",
       "      <td>0.0</td>\n",
       "      <td>0.0</td>\n",
       "      <td>0.0</td>\n",
       "      <td>...</td>\n",
       "      <td>0.0</td>\n",
       "      <td>0.0</td>\n",
       "      <td>0.0</td>\n",
       "      <td>0.0</td>\n",
       "      <td>0.0</td>\n",
       "      <td>0.0</td>\n",
       "      <td>0.0</td>\n",
       "      <td>0.0</td>\n",
       "      <td>0.0</td>\n",
       "      <td>0.0</td>\n",
       "    </tr>\n",
       "    <tr>\n",
       "      <th>5.0</th>\n",
       "      <td>Comedy</td>\n",
       "      <td>0.0</td>\n",
       "      <td>0.0</td>\n",
       "      <td>0.0</td>\n",
       "      <td>0.0</td>\n",
       "      <td>0.0</td>\n",
       "      <td>0.0</td>\n",
       "      <td>0.0</td>\n",
       "      <td>0.0</td>\n",
       "      <td>0.0</td>\n",
       "      <td>...</td>\n",
       "      <td>0.0</td>\n",
       "      <td>0.0</td>\n",
       "      <td>0.0</td>\n",
       "      <td>0.0</td>\n",
       "      <td>0.0</td>\n",
       "      <td>0.0</td>\n",
       "      <td>0.0</td>\n",
       "      <td>0.0</td>\n",
       "      <td>0.0</td>\n",
       "      <td>0.0</td>\n",
       "    </tr>\n",
       "    <tr>\n",
       "      <th>11.0</th>\n",
       "      <td>Adventure</td>\n",
       "      <td>0.0</td>\n",
       "      <td>0.0</td>\n",
       "      <td>0.0</td>\n",
       "      <td>0.0</td>\n",
       "      <td>0.0</td>\n",
       "      <td>0.0</td>\n",
       "      <td>0.0</td>\n",
       "      <td>0.0</td>\n",
       "      <td>0.0</td>\n",
       "      <td>...</td>\n",
       "      <td>0.0</td>\n",
       "      <td>0.0</td>\n",
       "      <td>0.0</td>\n",
       "      <td>0.0</td>\n",
       "      <td>0.0</td>\n",
       "      <td>0.0</td>\n",
       "      <td>0.0</td>\n",
       "      <td>0.0</td>\n",
       "      <td>0.0</td>\n",
       "      <td>0.0</td>\n",
       "    </tr>\n",
       "    <tr>\n",
       "      <th>11.0</th>\n",
       "      <td>Action</td>\n",
       "      <td>0.0</td>\n",
       "      <td>0.0</td>\n",
       "      <td>0.0</td>\n",
       "      <td>0.0</td>\n",
       "      <td>0.0</td>\n",
       "      <td>0.0</td>\n",
       "      <td>0.0</td>\n",
       "      <td>0.0</td>\n",
       "      <td>0.0</td>\n",
       "      <td>...</td>\n",
       "      <td>0.0</td>\n",
       "      <td>0.0</td>\n",
       "      <td>0.0</td>\n",
       "      <td>0.0</td>\n",
       "      <td>0.0</td>\n",
       "      <td>0.0</td>\n",
       "      <td>0.0</td>\n",
       "      <td>0.0</td>\n",
       "      <td>0.0</td>\n",
       "      <td>0.0</td>\n",
       "    </tr>\n",
       "    <tr>\n",
       "      <th>11.0</th>\n",
       "      <td>ScienceFiction</td>\n",
       "      <td>0.0</td>\n",
       "      <td>0.0</td>\n",
       "      <td>0.0</td>\n",
       "      <td>0.0</td>\n",
       "      <td>0.0</td>\n",
       "      <td>0.0</td>\n",
       "      <td>0.0</td>\n",
       "      <td>0.0</td>\n",
       "      <td>0.0</td>\n",
       "      <td>...</td>\n",
       "      <td>0.0</td>\n",
       "      <td>0.0</td>\n",
       "      <td>0.0</td>\n",
       "      <td>0.0</td>\n",
       "      <td>0.0</td>\n",
       "      <td>0.0</td>\n",
       "      <td>0.0</td>\n",
       "      <td>0.0</td>\n",
       "      <td>0.0</td>\n",
       "      <td>0.0</td>\n",
       "    </tr>\n",
       "  </tbody>\n",
       "</table>\n",
       "<p>5 rows × 4403 columns</p>\n",
       "</div>"
      ],
      "text/plain": [
       "               genre  aaron  abandoned  abducted  abilities  ability  able  \\\n",
       "id                                                                           \n",
       "5.0            Crime    0.0        0.0       0.0        0.0      0.0   0.0   \n",
       "5.0           Comedy    0.0        0.0       0.0        0.0      0.0   0.0   \n",
       "11.0       Adventure    0.0        0.0       0.0        0.0      0.0   0.0   \n",
       "11.0          Action    0.0        0.0       0.0        0.0      0.0   0.0   \n",
       "11.0  ScienceFiction    0.0        0.0       0.0        0.0      0.0   0.0   \n",
       "\n",
       "      aboard  abroad  abuse  ...  yet  york  young  younger  youngest  youth  \\\n",
       "id                           ...                                               \n",
       "5.0      0.0     0.0    0.0  ...  0.0   0.0    0.0      0.0       0.0    0.0   \n",
       "5.0      0.0     0.0    0.0  ...  0.0   0.0    0.0      0.0       0.0    0.0   \n",
       "11.0     0.0     0.0    0.0  ...  0.0   0.0    0.0      0.0       0.0    0.0   \n",
       "11.0     0.0     0.0    0.0  ...  0.0   0.0    0.0      0.0       0.0    0.0   \n",
       "11.0     0.0     0.0    0.0  ...  0.0   0.0    0.0      0.0       0.0    0.0   \n",
       "\n",
       "      zombie  zombies  zone  zoo  \n",
       "id                                \n",
       "5.0      0.0      0.0   0.0  0.0  \n",
       "5.0      0.0      0.0   0.0  0.0  \n",
       "11.0     0.0      0.0   0.0  0.0  \n",
       "11.0     0.0      0.0   0.0  0.0  \n",
       "11.0     0.0      0.0   0.0  0.0  \n",
       "\n",
       "[5 rows x 4403 columns]"
      ]
     },
     "execution_count": 11,
     "metadata": {},
     "output_type": "execute_result"
    }
   ],
   "source": [
    "doc_term_tfidf_data.head()"
   ]
  },
  {
   "cell_type": "markdown",
   "id": "e45351c4-daa4-487e-b95e-e805deeed88c",
   "metadata": {},
   "source": [
    "The first part is about loading a dataset of the top 10,000 movies and performing data cleaning to remove missing values. The dataset contains 12 columns such as movie id, original language, title, popularity, release date, vote average, vote count, genre, overview, revenue, runtime, and tagline. The data cleaning process includes dropping rows with missing values in columns with numerical or date data types, and replacing missing values in columns with object data types with the string \"unknown\". After cleaning, the dataset has 9,864 rows and 12 columns with no missing values."
   ]
  },
  {
   "cell_type": "markdown",
   "id": "7db75647-0fe6-4a01-86b0-12114db6ef2c",
   "metadata": {},
   "source": [
    "# Part - 2: Exploratory Analysis:"
   ]
  },
  {
   "cell_type": "code",
   "execution_count": 12,
   "id": "7eb69350-41be-4baa-9813-b42da4312c1c",
   "metadata": {},
   "outputs": [
    {
     "name": "stdout",
     "output_type": "stream",
     "text": [
      "Unique Genres:  19 \n",
      "\n",
      "Genre Counts\n",
      "------------\n",
      " Drama             804\n",
      "Thriller          557\n",
      "Comedy            554\n",
      "Action            536\n",
      "Adventure         400\n",
      "Crime             329\n",
      "Romance           306\n",
      "ScienceFiction    261\n",
      "Fantasy           228\n",
      "Horror            209\n",
      "Family            165\n",
      "Mystery           161\n",
      "History            92\n",
      "Animation          85\n",
      "War                75\n",
      "Music              41\n",
      "Western            37\n",
      "Documentary         6\n",
      "TVMovie             6\n",
      "Name: genre, dtype: int64\n"
     ]
    }
   ],
   "source": [
    "#Genre counts\n",
    "print(\"Unique Genres: \", doc_term_tfidf_data.dropna(thresh = 2).genre.value_counts().shape[0],\"\\n\")\n",
    "print(\"Genre Counts\\n------------\\n\",doc_term_tfidf_data.dropna(thresh = 2).genre.value_counts())"
   ]
  },
  {
   "cell_type": "code",
   "execution_count": 13,
   "id": "17c24702-fa1d-489b-9407-d979091f0a0f",
   "metadata": {},
   "outputs": [
    {
     "name": "stderr",
     "output_type": "stream",
     "text": [
      "/Users/harnainkaursardarni/opt/anaconda3/lib/python3.9/site-packages/sklearn/cluster/_kmeans.py:870: FutureWarning: The default value of `n_init` will change from 10 to 'auto' in 1.4. Set the value of `n_init` explicitly to suppress the warning\n",
      "  warnings.warn(\n"
     ]
    }
   ],
   "source": [
    "#Importing required modules\n",
    " \n",
    "from sklearn.datasets import load_digits\n",
    "from sklearn.decomposition import PCA\n",
    "from sklearn.cluster import KMeans\n",
    "import numpy as np\n",
    "\n",
    "#Initiate decomposition\n",
    "pca = PCA(2)\n",
    " \n",
    "#Remove null rows for decomposition\n",
    "reduced = new_doc_term_tfidf.dropna()\n",
    "\n",
    "#Transform the data\n",
    "transformed = pca.fit_transform(reduced)\n",
    "\n",
    "#Initialize the class object\n",
    "kmeans = KMeans(n_clusters= 20)\n",
    " \n",
    "#predict the labels of clusters.\n",
    "label = kmeans.fit_predict(transformed)\n",
    " \n",
    "#Getting unique labels\n",
    "u_labels = np.unique(label)\n",
    " \n",
    "#Getting the Centroids\n",
    "centroids = kmeans.cluster_centers_"
   ]
  },
  {
   "cell_type": "code",
   "execution_count": 14,
   "id": "9d821dab-33be-41f7-8da2-ecb4e5abc9d0",
   "metadata": {},
   "outputs": [
    {
     "data": {
      "image/png": "[encoded data removed]",
      "text/plain": [
       "<Figure size 1440x1440 with 1 Axes>"
      ]
     },
     "metadata": {
      "needs_background": "light"
     },
     "output_type": "display_data"
    }
   ],
   "source": [
    "#Set figure size\n",
    "plt.figure(figsize=(20,20))\n",
    "\n",
    "#Create color map to assign unique color to each cluster\n",
    "cmap = plt.cm.get_cmap(\"tab20b\",20)\n",
    "\n",
    "#Plot clusters\n",
    "for i in u_labels:\n",
    "    plt.scatter(transformed[label == i , 0] , transformed[label == i , 1] , label = i, s = 50, color = cmap(i))\n",
    "\n",
    "#Plot centroids\n",
    "plt.scatter(centroids[:,0] , centroids[:,1] , s = 100, color = 'k')\n",
    "\n",
    "plt.show()"
   ]
  },
  {
   "cell_type": "markdown",
   "id": "388a3e58-e608-4aa0-9ad2-ae1f6440b814",
   "metadata": {},
   "source": [
    "The Part 2  is about the clusters in dataset of movies, based on their genres by performing PCA and k-means clustering. \n",
    "It first prints the counts of movies for each genre in the dataset, with 19 unique genres. Then it reduces the dimensionality of the dataset to two dimensions using PCA and groups the movies into 20 clusters using k-means clustering. \n",
    "Finally, it plots the resulting clusters on a scatter plot, with each cluster assigned a unique color and the centroids of the clusters marked in black."
   ]
  },
  {
   "cell_type": "markdown",
   "id": "5700fe6b-47d8-4da4-bb0c-d26b7094ed0d",
   "metadata": {
    "tags": []
   },
   "source": [
    "# Part - 3 & 4: Classification and Evalution:"
   ]
  },
  {
   "cell_type": "markdown",
   "id": "1e29d7d6-3ed2-4a09-a9a3-10d7a33091f4",
   "metadata": {},
   "source": [
    "Performing Naive bayes classification with the target variable being \"genre\""
   ]
  },
  {
   "cell_type": "code",
   "execution_count": 15,
   "id": "857baaa7-4549-4422-ad3c-5b4466ff47a7",
   "metadata": {},
   "outputs": [],
   "source": [
    "# Import required libraries\n",
    "from sklearn.model_selection import train_test_split\n",
    "from sklearn.feature_extraction.text import CountVectorizer, TfidfTransformer\n",
    "from sklearn.naive_bayes import MultinomialNB\n",
    "from sklearn.metrics import accuracy_score"
   ]
  },
  {
   "cell_type": "code",
   "execution_count": 16,
   "id": "43159316-d948-404e-ab4c-6c90c776f314",
   "metadata": {},
   "outputs": [],
   "source": [
    "# Specify feature matrix and labels\n",
    "X = doc_term_tfidf_data.drop('genre', axis=1)\n",
    "y = doc_term_tfidf_data['genre']"
   ]
  },
  {
   "cell_type": "code",
   "execution_count": 17,
   "id": "6f8e2cdc-1fc2-4169-9b8f-2c5a088848b6",
   "metadata": {},
   "outputs": [],
   "source": [
    "# Split data into training and testing sets\n",
    "X_train, X_test, y_train, y_test = train_test_split(X, y, test_size=0.2, random_state=42)"
   ]
  },
  {
   "cell_type": "code",
   "execution_count": 18,
   "id": "172663a5-200e-479e-8471-7edf9b069f80",
   "metadata": {},
   "outputs": [],
   "source": [
    "# Convert movie plots into matrix of token counts\n",
    "count_vect = CountVectorizer()\n",
    "X_train_counts = count_vect.fit_transform(X_train['plot'].values.astype('U'))\n",
    "X_test_counts = count_vect.transform(X_test['plot'].values.astype('U'))"
   ]
  },
  {
   "cell_type": "code",
   "execution_count": 19,
   "id": "698a424e-7d13-407a-bd56-9965843ccc41",
   "metadata": {},
   "outputs": [],
   "source": [
    "# Compute TF-IDF values for each token\n",
    "tfidf_transformer = TfidfTransformer()\n",
    "X_train_tfidf = tfidf_transformer.fit_transform(X_train_counts)\n",
    "X_test_tfidf = tfidf_transformer.transform(X_test_counts)"
   ]
  },
  {
   "cell_type": "code",
   "execution_count": 20,
   "id": "6cd51e44-6598-4600-9da4-d73d7c5ea8b0",
   "metadata": {},
   "outputs": [],
   "source": [
    "# Train a Multinomial Naive Bayes model on the training data\n",
    "clf = MultinomialNB().fit(X_train_tfidf, y_train)"
   ]
  },
  {
   "cell_type": "code",
   "execution_count": 21,
   "id": "af8df95f-0240-4b31-80ad-330ac0d1ecd1",
   "metadata": {},
   "outputs": [],
   "source": [
    "# Make predictions on the testing data\n",
    "y_pred = clf.predict(X_test_tfidf)"
   ]
  },
  {
   "cell_type": "code",
   "execution_count": 22,
   "id": "ab988487-f011-4803-a499-20aaadfaf27d",
   "metadata": {},
   "outputs": [
    {
     "name": "stdout",
     "output_type": "stream",
     "text": [
      "Accuracy: 0.14305283757338552\n"
     ]
    }
   ],
   "source": [
    "# Compute accuracy score of the model\n",
    "accuracy = accuracy_score(y_test, y_pred)\n",
    "print(\"Accuracy:\", accuracy)"
   ]
  },
  {
   "cell_type": "markdown",
   "id": "1a0c2be3-3422-49e9-9fe9-b9f5bfab8113",
   "metadata": {},
   "source": [
    "We performed text classification task using the Multinomial Naive Bayes algorithm. \n",
    "The code imports required libraries, splits the data into training and testing sets, converts the text data into matrix of token counts, computes the TF-IDF values for each token, trains a Multinomial Naive Bayes model on the training data, makes predictions on the testing data, and computes the accuracy score of the model, which is 0.143. \n",
    "The accuracy score is only 0.143, which means that the model correctly predicted the genre of only about 14% of the test data."
   ]
  },
  {
   "cell_type": "markdown",
   "id": "bcce7672-7aff-469b-a6d7-bee6ac05dae3",
   "metadata": {},
   "source": [
    "We then performed Naive Bayes algorithm with the target variable being \"revenue range\"."
   ]
  },
  {
   "cell_type": "code",
   "execution_count": 23,
   "id": "d5c1c500-8286-47b9-ad0b-6762216e37b5",
   "metadata": {},
   "outputs": [
    {
     "name": "stdout",
     "output_type": "stream",
     "text": [
      "[[571 494]\n",
      " [ 65 843]]\n",
      "              precision    recall  f1-score   support\n",
      "\n",
      " Low revenue       0.90      0.54      0.67      1065\n",
      "  No revenue       0.63      0.93      0.75       908\n",
      "\n",
      "    accuracy                           0.72      1973\n",
      "   macro avg       0.76      0.73      0.71      1973\n",
      "weighted avg       0.77      0.72      0.71      1973\n",
      "\n"
     ]
    }
   ],
   "source": [
    "# create revenue range categories\n",
    "rawdata['revenue_range'] = pd.cut(rawdata['revenue'], \n",
    "                                   bins=[-np.inf, 0, 1000000, 10000000, 100000000, np.inf], \n",
    "                                   labels=['No revenue', 'Low revenue', 'Medium revenue', 'High revenue', 'Very high revenue'])\n",
    "\n",
    "# split data into training and testing sets\n",
    "from sklearn.model_selection import train_test_split\n",
    "X_train, X_test, y_train, y_test = train_test_split(rawdata[['popularity', 'vote_average', 'vote_count', 'runtime']], \n",
    "                                                    rawdata['revenue_range'], test_size=0.2, random_state=42)\n",
    "\n",
    "# apply Naive Bayes algorithm\n",
    "from sklearn.naive_bayes import GaussianNB\n",
    "from sklearn.metrics import classification_report, confusion_matrix\n",
    "\n",
    "nb = GaussianNB()\n",
    "nb.fit(X_train, y_train)\n",
    "\n",
    "# predict revenue range for test data\n",
    "y_pred = nb.predict(X_test)\n",
    "\n",
    "# evaluate model performance\n",
    "print(confusion_matrix(y_test, y_pred))\n",
    "print(classification_report(y_test, y_pred))"
   ]
  },
  {
   "cell_type": "markdown",
   "id": "a8166f12-f661-4c24-8e55-6933936c77c8",
   "metadata": {},
   "source": [
    "We created revenue range categories based on the revenue column of a dataset, and then splits the data into training and testing sets, then applied the Naive Bayes algorithm and made revenue range predictions for the test data. \n",
    "Finally, we evaluated the performance of the model using confusion matrix and classification report, showing precision, recall, f1-score, and accuracy, where the model achieved an accuracy of 0.72 (or) 72%."
   ]
  },
  {
   "cell_type": "code",
   "execution_count": 24,
   "id": "8810d4cb-2743-41f4-b299-6c55eeaa42fc",
   "metadata": {},
   "outputs": [
    {
     "name": "stdout",
     "output_type": "stream",
     "text": [
      "[[723 342]\n",
      " [187 721]]\n",
      "              precision    recall  f1-score   support\n",
      "\n",
      " Low revenue       0.79      0.68      0.73      1065\n",
      "  No revenue       0.68      0.79      0.73       908\n",
      "\n",
      "    accuracy                           0.73      1973\n",
      "   macro avg       0.74      0.74      0.73      1973\n",
      "weighted avg       0.74      0.73      0.73      1973\n",
      "\n"
     ]
    }
   ],
   "source": [
    "# create revenue range categories\n",
    "rawdata['revenue_range'] = pd.cut(rawdata['revenue'], \n",
    "                                   bins=[-np.inf, 0, 1000000, 10000000, 100000000, np.inf], \n",
    "                                   labels=['No revenue', 'Low revenue', 'Medium revenue', 'High revenue', 'Very high revenue'])\n",
    "\n",
    "# split data into training and testing sets\n",
    "from sklearn.model_selection import train_test_split\n",
    "X_train, X_test, y_train, y_test = train_test_split(rawdata[['popularity', 'vote_average', 'vote_count', 'runtime']], \n",
    "                                                    rawdata['revenue_range'], test_size=0.2, random_state=42)\n",
    "\n",
    "# apply Naive Bayes algorithm with cross-validation and hyperparameter tuning\n",
    "from sklearn.naive_bayes import GaussianNB\n",
    "from sklearn.model_selection import GridSearchCV\n",
    "from sklearn.metrics import classification_report, roc_curve, roc_auc_score\n",
    "\n",
    "param_grid = {'var_smoothing': np.logspace(0,-9, num=100)}\n",
    "nb = GridSearchCV(GaussianNB(), param_grid, cv=5)\n",
    "nb.fit(X_train, y_train)\n",
    "\n",
    "# predict revenue range for test data\n",
    "y_pred = nb.predict(X_test)\n",
    "\n",
    "# evaluate model performance\n",
    "print(confusion_matrix(y_test, y_pred))\n",
    "print(classification_report(y_test, y_pred))"
   ]
  },
  {
   "cell_type": "code",
   "execution_count": 25,
   "id": "e8637bbc-3d28-4f3c-abed-c41abd5e562e",
   "metadata": {},
   "outputs": [
    {
     "name": "stdout",
     "output_type": "stream",
     "text": [
      "Best hyperparameters: {'var_smoothing': 1e-09}\n",
      "Cross-validation score: 0.7208219252852113\n"
     ]
    }
   ],
   "source": [
    "from sklearn.model_selection import GridSearchCV\n",
    "\n",
    "# define hyperparameter grid\n",
    "param_grid = {\n",
    "    'var_smoothing': [1e-9, 1e-8, 1e-7, 1e-6, 1e-5]\n",
    "}\n",
    "\n",
    "# perform grid search\n",
    "nb = GaussianNB()\n",
    "nb.fit(X_train, y_train)\n",
    "grid_search = GridSearchCV(nb, param_grid, cv=5, scoring='accuracy')\n",
    "grid_search.fit(X_train, y_train)\n",
    "\n",
    "# print best hyperparameters and cross-validation score\n",
    "print(\"Best hyperparameters:\", grid_search.best_params_)\n",
    "print(\"Cross-validation score:\", grid_search.best_score_)"
   ]
  },
  {
   "cell_type": "code",
   "execution_count": 26,
   "id": "b96c8b20-317e-4937-9a78-b9ff277a351f",
   "metadata": {},
   "outputs": [
    {
     "data": {
      "image/png": "[encoded data removed]",
      "text/plain": [
       "<Figure size 576x432 with 1 Axes>"
      ]
     },
     "metadata": {
      "needs_background": "light"
     },
     "output_type": "display_data"
    },
    {
     "data": {
      "image/png": "[encoded data removed]",
      "text/plain": [
       "<Figure size 576x432 with 1 Axes>"
      ]
     },
     "metadata": {
      "needs_background": "light"
     },
     "output_type": "display_data"
    }
   ],
   "source": [
    "from sklearn.metrics import roc_curve, roc_auc_score, precision_recall_curve, average_precision_score\n",
    "from sklearn.preprocessing import LabelEncoder\n",
    "\n",
    "# encode the target variable as numeric values\n",
    "le = LabelEncoder()\n",
    "y_test = le.fit_transform(y_test)\n",
    "\n",
    "# predict probabilities for test data\n",
    "y_prob = nb.predict_proba(X_test)[:, 1] # use the probability of the positive class only\n",
    "\n",
    "# calculate ROC curve and AUC\n",
    "fpr, tpr, _ = roc_curve(y_test, y_prob)\n",
    "roc_auc = roc_auc_score(y_test, y_prob)\n",
    "\n",
    "# plot ROC curve\n",
    "import matplotlib.pyplot as plt\n",
    "plt.figure(figsize=(8,6))\n",
    "plt.plot(fpr, tpr, label='ROC curve (AUC = %0.2f)' % roc_auc)\n",
    "plt.plot([0, 1], [0, 1], 'k--')\n",
    "plt.xlim([0.0, 1.0])\n",
    "plt.ylim([0.0, 1.05])\n",
    "plt.xlabel('False Positive Rate')\n",
    "plt.ylabel('True Positive Rate')\n",
    "plt.title('Receiver operating characteristic')\n",
    "plt.legend(loc=\"lower right\")\n",
    "plt.show()\n",
    "\n",
    "# calculate precision-recall curve and average precision\n",
    "precision, recall, _ = precision_recall_curve(y_test, y_prob)\n",
    "avg_precision = average_precision_score(y_test, y_prob)\n",
    "\n",
    "# plot precision-recall curve\n",
    "plt.figure(figsize=(8, 6))\n",
    "plt.plot(recall, precision, label='Precision-recall curve (AP = %0.2f)' % avg_precision)\n",
    "plt.xlim([0.0, 1.0])\n",
    "plt.ylim([0.0, 1.05])\n",
    "plt.xlabel('Recall')\n",
    "plt.ylabel('Precision')\n",
    "plt.title('Precision-Recall curve')\n",
    "plt.legend(loc=\"lower right\")\n",
    "plt.show()"
   ]
  },
  {
   "cell_type": "markdown",
   "id": "1c1016b3-89c9-4b28-b7e2-c9879e009b51",
   "metadata": {},
   "source": [
    "We performed binary classification evaluation using two metrics: \n",
    "ROC curve and Precision-Recall curve.\n",
    "\n",
    "The ROC curve and AUC score are calculated using the roc_curve and roc_auc_score functions from sklearn.metrics. The ROC curve is then plotted with the help of matplotlib. Next, the PR curve and Average Precision (AP) score are calculated using the precision_recall_curve and average_precision_score functions from sklearn.metrics. The PR curve is then plotted with the help of matplotlib. Both curves help to evaluate the performance of the classification model. \n",
    "\n",
    "The ROC curve, is a graphical representation of the performance of a binary classification model as the discrimination threshold is varied. It shows the trade-off between the true positive rate and the false positive rate at different threshold settings. The area under the ROC curve (AUC) is a measure of the overall performance of the model. AUC ranges from 0 to 1, where 1 indicates a perfect classifier and 0.5 indicates a random guess. In this case, the AUC is 0.87, which suggests that the model is reasonably good at distinguishing between the positive and negative classes.\n",
    "\n",
    "The Precision-Recall curve, shows the trade-off between precision and recall at different threshold settings. Precision is the fraction of true positives among the total predicted positives, while recall is the fraction of true positives among the total actual positives. The average precision is the area under the PR curve, which ranges from 0 to 1. A higher AP indicates a better performing model. In this case, the AP is 0.56, which is lower than the AUC, indicating that the model may be better at identifying the negative class than the positive class."
   ]
  },
  {
   "cell_type": "code",
   "execution_count": null,
   "id": "43faba51-b157-4f4b-8f0c-eb698c4b6eba",
   "metadata": {},
   "outputs": [],
   "source": []
  }
 ],
 "metadata": {
  "kernelspec": {
   "display_name": "Python 3 (ipykernel)",
   "language": "python",
   "name": "python3"
  },
  "language_info": {
   "codemirror_mode": {
    "name": "ipython",
    "version": 3
   },
   "file_extension": ".py",
   "mimetype": "text/x-python",
   "name": "python",
   "nbconvert_exporter": "python",
   "pygments_lexer": "ipython3",
   "version": "3.9.12"
  }
 },
 "nbformat": 4,
 "nbformat_minor": 5
}
